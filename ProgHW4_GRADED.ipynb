{
 "cells": [
  {
   "cell_type": "markdown",
   "metadata": {},
   "source": [
    "<font color=\"red\">\n",
    "Grade: A\n",
    "\n",
    "Wonderful Job!\n",
    "\n",
    "1. Perfect\n",
    "\n",
    "2. part (b): you cannot use the P-value in the table, because the table uses $\\alpha=0.05$. But the problem uses $\\alpha=0.01$.\n",
    "\n",
    "3. Perfect\n",
    "<font>"
   ]
  },
  {
   "cell_type": "markdown",
   "metadata": {},
   "source": [
    "# Programming HW 4"
   ]
  },
  {
   "cell_type": "code",
   "execution_count": 2,
   "metadata": {},
   "outputs": [],
   "source": [
    "import numpy as np\n",
    "import scipy as sp\n",
    "import matplotlib.pyplot as plt\n",
    "import statsmodels.api as sm\n",
    "import statsmodels.formula.api as smf\n",
    "import pandas as pd\n",
    "%matplotlib inline"
   ]
  },
  {
   "cell_type": "markdown",
   "metadata": {
    "slideshow": {
     "slide_type": "subslide"
    }
   },
   "source": [
    "## Problem 1\n",
    "\n",
    "**Grocery retailer**. A large,national grocery retailer tracks productivity and costs of its facilities closely. Data were obtained from a single distribution center for a one-year period. Each data point for each variable represents one week of activity. The variables included are the number of cases shipped ($x_1$) (Column 2), the indirect costs of the total labor hours as a percentage ($x_2$) (Column 3), a qualitative predictor called holiday that is coded 1 if the week has a holiday and 0 otherwise ($x_3$) (Column 4), and the total labor hours ($y$) (Column 1).\n",
    "\n",
    "The data are in \"Grocery.txt\".\n",
    "\n",
    "(a) Obtain the analysis of variance table that decomposes the regression sum of squares into extra sums of squares associated with $x_1$; with $x_3$, given $x_1$; and with $x_2$, given $x_1$ and $x_3$.\n",
    "\n",
    "(b) Test whether $x_2$ can be dropped from the regression model given that $x_1$ and $x_3$ are retained. Use the $F^*$ test statistic and $\\alpha = .05$. State the alternatives, decision rule, and conclusion. What is the P-value of the test?\n",
    "\n",
    "(c) Does $\\text{SSR}(x_1) + \\text{SSR}(x_2|x_1)$ equal $\\text{SSR}(x_2)+\\text{SSR}(x_1|x_2)$ here? Must this always be the case?"
   ]
  },
  {
   "cell_type": "code",
   "execution_count": 3,
   "metadata": {},
   "outputs": [
    {
     "name": "stdout",
     "output_type": "stream",
     "text": [
      "1#a\n",
      "                 df        sum_sq       mean_sq          F        PR(>F)\n",
      "CasesShipped    1.0  1.363662e+05  1.363662e+05   6.641687  1.309038e-02\n",
      "Holiday         1.0  2.033565e+06  2.033565e+06  99.044333  2.963340e-13\n",
      "IndirectCosts   1.0  6.674588e+03  6.674588e+03   0.325084  5.712274e-01\n",
      "Residual       48.0  9.855297e+05  2.053187e+04        NaN           NaN\n",
      "\n",
      "SSR(𝑥1)= 136366.24332931006\n",
      "SSR(𝑥3|𝑥1)= 2033565.3452678784\n",
      "SSR(𝑥2|𝑥1,x3)= 6674.588085891322\n",
      "\n",
      "\n",
      "1#b\n",
      "H_0:β_2=0\n",
      "H_a:β_2≠0\n",
      "Fstar= 0.3250842800991927\n",
      "conclude H0: β_2 can be dropped from the regression mode\n",
      "From the table, the P-value corresponding to x_2 is 5.712274e-01\n",
      "\n",
      "\n",
      "1#c\n",
      "SSR(𝑥1)+SSR(𝑥2|𝑥1)= 142092.1651389466\n",
      "SSR(𝑥2)+SSR(𝑥1|𝑥2)= 142092.16513894417\n",
      "SSR(𝑥1)+SSR(𝑥2|𝑥1)=SSR(𝑥2)+SSR(𝑥1|𝑥2), and it must always be the case\n"
     ]
    }
   ],
   "source": [
    "x= np.loadtxt('Grocery.txt', usecols=(1,2,3), unpack=True)\n",
    "y= np.loadtxt('Grocery.txt',  usecols=(0), unpack=True)\n",
    "n=y.size\n",
    "G=pd.read_csv('Grocery.txt', delim_whitespace=True, names= ['Hours','CasesShipped','IndirectCosts','Holiday'])\n",
    "n=G.shape[0]\n",
    "G.head(n)\n",
    "\n",
    "print('1#a')\n",
    "lm=smf.ols('Hours~CasesShipped+Holiday+IndirectCosts', data=G).fit()\n",
    "table=sm.stats.anova_lm(lm)\n",
    "print(table)\n",
    "print( )\n",
    "print('SSR(𝑥1)=',table.sum_sq[0])\n",
    "print('SSR(𝑥3|𝑥1)=',table.sum_sq[1])\n",
    "print('SSR(𝑥2|𝑥1,x3)=',table.sum_sq[2])\n",
    "print( )\n",
    "print( )\n",
    "\n",
    "print('1#b')\n",
    "print('H_0:β_2=0' '\\n' 'H_a:β_2≠0')\n",
    "F=table.mean_sq[2]/table.mean_sq[3]\n",
    "print('Fstar=', F)\n",
    "if F<=sp.stats.f.ppf(0.95,1,n-4):\n",
    "     print('conclude H0: β_2 can be dropped from the regression mode'); \n",
    "elif(F>sp.stats.f.ppf(0.95,1,n-4)):\n",
    "    print('conclude Ha: β_2 can not be dropped from the regression mode'); \n",
    "print('From the table, the P-value corresponding to x_2 is 5.712274e-01')\n",
    "print( )\n",
    "print( )\n",
    "\n",
    "print('1#c')\n",
    "lm=smf.ols('Hours~IndirectCosts+CasesShipped+Holiday', data=G).fit()\n",
    "table1=sm.stats.anova_lm(lm)\n",
    "lm=smf.ols('Hours~CasesShipped+IndirectCosts+Holiday', data=G).fit()\n",
    "table2=sm.stats.anova_lm(lm)\n",
    "print('SSR(𝑥1)+SSR(𝑥2|𝑥1)=',table2.sum_sq[0]+table2.sum_sq[1])\n",
    "print('SSR(𝑥2)+SSR(𝑥1|𝑥2)=',table1.sum_sq[0]+table1.sum_sq[1])\n",
    "print('SSR(𝑥1)+SSR(𝑥2|𝑥1)=SSR(𝑥2)+SSR(𝑥1|𝑥2), and it must always be the case')"
   ]
  },
  {
   "cell_type": "markdown",
   "metadata": {
    "slideshow": {
     "slide_type": "fragment"
    }
   },
   "source": [
    "## Problem 2\n",
    "\n",
    "**Brand preference**. In a small-scale experimental study of the relation between degree of brand liking ($y$) (Column 1) and moisture content ($x_1$) (Column 2) and sweetness ($x_2$) (Column 3) of the product, the results were obtained from the expeliment based on a completely randomized design (data are coded).\n",
    "\n",
    "The full data are in \"Brand.txt\".\n",
    "\n",
    "(a) Obtain the analysis of variance table that decomposes the regression sum of squares into extra sums of squares associated with $x_1$ and with $x_2$, given $x_1$.\n",
    "\n",
    "(b) Test whether $x_2$ can be dropped from the regression model given that $x_1$ is retained. Use the $F^*$ test statistic and level of significance $.01$. State the alternatives, decision rule, and conclusion. What is the P-value of the test?"
   ]
  },
  {
   "cell_type": "code",
   "execution_count": 5,
   "metadata": {},
   "outputs": [
    {
     "name": "stdout",
     "output_type": "stream",
     "text": [
      "2#a\n",
      "                   df   sum_sq      mean_sq           F        PR(>F)\n",
      "MoistureContent   1.0  1566.45  1566.450000  215.947508  1.778029e-09\n",
      "Sweetness         1.0   306.25   306.250000   42.218982  2.011047e-05\n",
      "Residual         13.0    94.30     7.253846         NaN           NaN\n",
      "\n",
      "SSR(𝑥1)= 1566.4499999999987\n",
      "SSR(𝑥2|𝑥1)= 306.2500000000001\n",
      "\n",
      "\n",
      "2#b\n",
      "H_0:β_2=0\n",
      "H_a:β_2≠0\n",
      "Fstar= 42.218981972428395\n",
      "conclude Ha: β_2 can not be dropped from the regression mode\n",
      "From the table, the P-value corresponding to x_2 is 2.011047e-05\n"
     ]
    }
   ],
   "source": [
    "x= np.loadtxt('Brand.txt',  usecols=(1,2), unpack=True)\n",
    "y= np.loadtxt('Brand.txt',  usecols=(0), unpack=True)\n",
    "n=y.size\n",
    "\n",
    "B=pd.read_csv('Brand.txt', delim_whitespace=True, names= ['BrandLiking','MoistureContent','Sweetness'])\n",
    "n=B.shape[0]\n",
    "B.head(n)\n",
    "\n",
    "print('2#a')\n",
    "lm=smf.ols('BrandLiking~MoistureContent+Sweetness', data=B).fit()\n",
    "table=sm.stats.anova_lm(lm)\n",
    "print(table)\n",
    "print()\n",
    "print('SSR(𝑥1)=',table.sum_sq[0])\n",
    "print('SSR(𝑥2|𝑥1)=',table.sum_sq[1])\n",
    "print( )\n",
    "print( )\n",
    "\n",
    "print('2#b')\n",
    "\n",
    "print('H_0:β_2=0' '\\n' 'H_a:β_2≠0')\n",
    "F=table.mean_sq[1]/table.mean_sq[2]\n",
    "print('Fstar=',F)\n",
    "if F<=sp.stats.f.ppf(0.99,1,n-3):\n",
    "     print('conclude H0: β_2 can be dropped from the regression mode'); \n",
    "elif(F>sp.stats.f.ppf(0.99,1,n-3)):\n",
    "    print('conclude Ha: β_2 can not be dropped from the regression mode'); \n",
    "print('From the table, the P-value corresponding to x_2 is 2.011047e-05')\n"
   ]
  },
  {
   "cell_type": "markdown",
   "metadata": {
    "slideshow": {
     "slide_type": "subslide"
    }
   },
   "source": [
    "## Problem 3\n",
    "\n",
    "**Commercial properties**. A commercial real estate company evaluates vacancy rates, square footage, rental rates, and operating expenses for commercial properties in a large metropolitan area in order to provide clients with quantitative information upon which to make rental decisions. The data below are taken from 81 suburban commercial properties that are the newest, best located, most attractive, and expensive for five specific geographic areas. Shown here are the age ($x_1$) (Column 2), operating expenses and taxes ($x_2$) (Column 3), vacancy rates ($x_3$) (Column 4), total square footage ($x_4$) (Column 5), and rental rates ($y$) (Column 1).\n",
    "\n",
    "The data are in \"Commercial.txt\".\n",
    "\n",
    "(a) Obtain the analysis of variance table that decomposes the regression sum of squares into extra sums of squares associated with $x_4$; with $x_1$, given $x_4$; with $x_2$, given $x_1$ and $x_4$; and with $x_3$, given $x_1, x_2$ and $x_4$.\n",
    "\n",
    "(b) Test whether both $x_2$ and $x_3$ Can be dropped from the regression model given that $x_1$ and $x_4$ are retained; use $\\alpha = .01$. State the alternatives, decision rule, and conclusion. What is the P-value of the test?"
   ]
  },
  {
   "cell_type": "code",
   "execution_count": 7,
   "metadata": {},
   "outputs": [
    {
     "name": "stdout",
     "output_type": "stream",
     "text": [
      "3#a\n",
      "            df     sum_sq    mean_sq          F        PR(>F)\n",
      "SqFt       1.0  67.775098  67.775098  52.436896  3.073270e-10\n",
      "Age        1.0  42.274568  42.274568  32.707399  2.003870e-07\n",
      "Taxes      1.0  27.857493  27.857493  21.553056  1.412208e-05\n",
      "VacancyR   1.0   0.419746   0.419746   0.324753  5.704457e-01\n",
      "Residual  76.0  98.230594   1.292508        NaN           NaN\n",
      "\n",
      "SSR(𝑥4)= 67.77509798647361\n",
      "SSR(𝑥1|𝑥4)= 42.2745683242815\n",
      "SSR(𝑥2|x1,x4)= 27.85749348341626\n",
      "SSR(𝑥3|𝑥1,x2,x4)= 0.4197462629402073\n",
      "\n",
      "\n",
      "3#b\n",
      "H_0:β_2=0=β_3=0 \n",
      "H_a:β_2≠0 or β_3≠0\n",
      "SSR(x2,x3|x1,x4)= 28.277239746356468\n",
      "Fstar= 0.0\n",
      "conclude H0: β_2 and β_3 can be both dropped from the regression mode\n",
      "From the table, the P-value is 1.0\n"
     ]
    }
   ],
   "source": [
    "x= np.loadtxt('Commercial.txt',  usecols=(1,2,3,4), unpack=True)\n",
    "y= np.loadtxt('Commercial.txt',  usecols=(0), unpack=True)\n",
    "n=y.size\n",
    "C=pd.read_csv('Commercial.txt', delim_whitespace=True, names= ['RentalR','Age','Taxes','VacancyR','SqFt'])\n",
    "n=C.shape[0]\n",
    "C.head(n)\n",
    "\n",
    "print('3#a')\n",
    "lm=smf.ols('RentalR~SqFt+Age+Taxes+VacancyR', data=C).fit()\n",
    "table=sm.stats.anova_lm(lm)\n",
    "print(table)\n",
    "print()\n",
    "print('SSR(𝑥4)=',table.sum_sq[0])\n",
    "print('SSR(𝑥1|𝑥4)=',table.sum_sq[1])\n",
    "print('SSR(𝑥2|x1,x4)=',table.sum_sq[2])\n",
    "print('SSR(𝑥3|𝑥1,x2,x4)=',table.sum_sq[3])\n",
    "print( )\n",
    "print( )\n",
    "\n",
    "print('3#b')\n",
    "print('H_0:β_2=0=β_3=0 ' '\\n' 'H_a:β_2≠0 or β_3≠0')\n",
    "\n",
    "print('SSR(x2,x3|x1,x4)=', table.sum_sq[2]+table.sum_sq[3])\n",
    "\n",
    "R=(lm.ssr-table.sum_sq[4])/2\n",
    "F=R/table.mean_sq[4]\n",
    "print('Fstar=',F)\n",
    "if F<=sp.stats.f.ppf(0.99,2,n-5):\n",
    "     print('conclude H0: β_2 and β_3 can be both dropped from the regression mode'); \n",
    "elif(F>sp.stats.f.ppf(0.99,2,n-5)):\n",
    "    print('conclude Ha: β_2 and β_3 can not be both dropped from the regression mode');\n",
    "    \n",
    "print('From the table, the P-value is', sp.stats.f.sf(F,2,n-5) )"
   ]
  },
  {
   "cell_type": "code",
   "execution_count": null,
   "metadata": {},
   "outputs": [],
   "source": []
  }
 ],
 "metadata": {
  "kernelspec": {
   "display_name": "Python 3",
   "language": "python",
   "name": "python3"
  },
  "language_info": {
   "codemirror_mode": {
    "name": "ipython",
    "version": 3
   },
   "file_extension": ".py",
   "mimetype": "text/x-python",
   "name": "python",
   "nbconvert_exporter": "python",
   "pygments_lexer": "ipython3",
   "version": "3.7.6"
  },
  "latex_envs": {
   "LaTeX_envs_menu_present": true,
   "autoclose": false,
   "autocomplete": true,
   "bibliofile": "biblio.bib",
   "cite_by": "apalike",
   "current_citInitial": 1,
   "eqLabelWithNumbers": true,
   "eqNumInitial": 1,
   "hotkeys": {
    "equation": "Ctrl-E",
    "itemize": "Ctrl-I"
   },
   "labels_anchors": false,
   "latex_user_defs": false,
   "report_style_numbering": false,
   "user_envs_cfg": false
  },
  "name": "Lecture1.ipynb",
  "toc": {
   "base_numbering": 1,
   "nav_menu": {},
   "number_sections": true,
   "sideBar": true,
   "skip_h1_title": false,
   "title_cell": "Table of Contents",
   "title_sidebar": "Contents",
   "toc_cell": false,
   "toc_position": {},
   "toc_section_display": true,
   "toc_window_display": false
  }
 },
 "nbformat": 4,
 "nbformat_minor": 2
}
