{
 "cells": [
  {
   "cell_type": "markdown",
   "metadata": {},
   "source": [
    "<font color='red'>\n",
    "\n",
    "Grade: A\n",
    "\n",
    "Great Job! I found no errors.\n",
    "\n",
    "Problem 1: Good.\n",
    "\n",
    "Problem 2: Good.\n",
    "\n",
    "Problem 3: Good."
   ]
  },
  {
   "cell_type": "markdown",
   "metadata": {},
   "source": [
    "# Programming HW 3"
   ]
  },
  {
   "cell_type": "code",
   "execution_count": 2,
   "metadata": {},
   "outputs": [],
   "source": [
    "import numpy as np\n",
    "import scipy as sp\n",
    "import matplotlib.pyplot as plt\n",
    "import statsmodels.api as sm\n",
    "import statsmodels.formula.api as smf\n",
    "import pandas as pd\n",
    "%matplotlib inline"
   ]
  },
  {
   "cell_type": "markdown",
   "metadata": {
    "slideshow": {
     "slide_type": "subslide"
    }
   },
   "source": [
    "## Problem 1\n",
    "\n",
    "**Copier maintenance**. The Tri-City Office Equipment Corporation sells an imported copier on a franchise basis and performs preventive maintenance and repair service on this copier. The data below have been collected from 45 recent calls on users to perform routine preventive maintenance service; for each call, $x$ is the number of copiers serviced and $y$ is the total number of minutes spent by the service person. The data look like:\n",
    "\n",
    "| i | 1 | 2 | 3 |...| 43 | 44 | 45 |\n",
    "|---|---|---|---|---|---|---|---|\n",
    "|$x_i$| 2 | 4 | 3 | ... | 2 | 4 | 5|\n",
    "| $y_i$ | 20 | 60 | 46 | ... | 27 | 61| 77|\n",
    "\n",
    "The full data are stored in \"copier.txt\".\n",
    "\n",
    "1. What are the alternative conclusions when testing for lack of fit of a linear regression function?\n",
    "\n",
    "2. Perform the test indicated in part (1). Control the risk of Type I error at $0.05$. State the decision rule and conclusion."
   ]
  },
  {
   "cell_type": "code",
   "execution_count": 20,
   "metadata": {},
   "outputs": [
    {
     "name": "stdout",
     "output_type": "stream",
     "text": [
      "Problem 1 a\n",
      "\n",
      "H_0: E[y] = β0 + β1x\n",
      "H_a: E[y] ≠ β0 + β1x\n",
      "\n",
      "if Fstar<=sp.stats.f.ppf(1-alpha,c-2, n-c),Conclude H_0\n",
      "if Fstar>sp.stats.f.ppf(1-alpha,c-2, n-c),Conclude H_1\n",
      "\n",
      "\n",
      "Problem 1 b\n",
      "\n",
      "Average the data based on x and it now looks like: \n",
      "             NewY\n",
      "MinX            \n",
      "1.0    11.500000\n",
      "2.0    27.500000\n",
      "3.0    41.000000\n",
      "4.0    61.400000\n",
      "5.0    77.875000\n",
      "6.0    94.500000\n",
      "7.0   108.333333\n",
      "8.0   118.000000\n",
      "9.0   135.250000\n",
      "10.0  140.000000\n",
      "\n",
      "SSPE (SSE(F)) = 2797.6583333333333\n",
      "\n",
      "SSPE (R) = 3416.3770234986955\n",
      "\n",
      "F* = 0.9675571306265512\n",
      "F(1-alpha; c-2, n-c) = 2.216675032675201\n",
      "\n",
      "Conclude H0:that regression function is linear\n"
     ]
    }
   ],
   "source": [
    "print('Problem 1 a')\n",
    "print()\n",
    "\n",
    "print('H_0: E[y] = β0 + β1x')\n",
    "print('H_a: E[y] ≠ β0 + β1x')\n",
    "print()\n",
    "print('if Fstar<=sp.stats.f.ppf(1-alpha,c-2, n-c),Conclude H_0'); \n",
    "print('if Fstar>sp.stats.f.ppf(1-alpha,c-2, n-c),Conclude H_1'); \n",
    "\n",
    "print()\n",
    "print()\n",
    "\n",
    "print('Problem 1 b')\n",
    "print()\n",
    "data= np.loadtxt('copier.txt')\n",
    "x=data[:, 1]\n",
    "y=data[:, 0]\n",
    "n=x.size\n",
    "\n",
    "df = pd.DataFrame({'MinX':x, 'NewY':y})\n",
    "df_mean = df.groupby('MinX').mean()\n",
    "print('Average the data based on x and it now looks like:','\\n',df_mean)\n",
    "c=10\n",
    "print()\n",
    "SSEF=0\n",
    "for index, row in df.iterrows():\n",
    "    SSEF+=(row['NewY']-df_mean.iloc[df_mean.index == row['MinX']].values[0][0])**2\n",
    "print('SSPE (SSE(F)) =', SSEF)\n",
    "print()\n",
    "x1 = sm.add_constant(x)\n",
    "results = sm.OLS(y, x1).fit()\n",
    "b0 = results.params[0]\n",
    "b1 = results.params[1]\n",
    "y_hat = b0 + b1*x\n",
    "\n",
    "SSER=np.sum((y-y_hat)**2)\n",
    "print('SSPE (R) =', SSER)\n",
    "print()\n",
    "dfR=n-2\n",
    "dfF=n-c\n",
    "\n",
    "Fstar = ((SSER-SSEF)/(dfR-dfF))/((SSEF)/(dfF))\n",
    "print('F* =', Fstar)\n",
    "alpha =0.05\n",
    "print('F(1-alpha; c-2, n-c) =', sp.stats.f.ppf(1-alpha,c-2, n-c))\n",
    "print()\n",
    "if Fstar<=sp.stats.f.ppf(1-alpha,c-2, n-c):\n",
    "     print('Conclude H0:that regression function is linear'); \n",
    "elif(abs(tt)>sp.stats.t.ppf(0.995,n-2)):\n",
    "    print('Conclude Ha:that regression function is not linear');"
   ]
  },
  {
   "cell_type": "markdown",
   "metadata": {
    "slideshow": {
     "slide_type": "fragment"
    }
   },
   "source": [
    "## Problem 2\n",
    "\n",
    "**Production time**. In a manufacturing study, the production times for $111$ recent production runs were obtained. The table below lists for each run the production time in hours ($y$) and the production lot size ($x$).\n",
    "\n",
    "| i | 1 | 2 | 3 |...| 109 | 110 | 111 |\n",
    "|---|---|---|---|---|---|---|---|\n",
    "|$x_i$| 15 | 9 | 7 | ... | 12 | 9 | 15|\n",
    "| $y_i$ | 14.28 | 8.80 | 12.49 | ... | 16.37 | 11.45| 15.78|\n",
    "\n",
    "The full data are in \"production.txt\".\n",
    "\n",
    "1. Prepare a scatter plot of the data. Does a linear relation appear adequate here?\n",
    "\n",
    "2. Use the transformation $x' = \\sqrt{x}$ and obtain the estimated linear regression function for the transformed data.\n",
    "\n",
    "3. Plot the estimated regression line and the transformed data. Does the regression line appear to be a good fit to the transformed data?\n",
    "\n",
    "4. Obtain the residuals and plot them against the fitted values. Also prepare a normal probability plot. What do your plots show?"
   ]
  },
  {
   "cell_type": "code",
   "execution_count": 21,
   "metadata": {},
   "outputs": [
    {
     "name": "stdout",
     "output_type": "stream",
     "text": [
      "Problem 2 a\n",
      "\n",
      "There is no linear relation appear adequate here\n",
      "b0= 6.863486913347429\n",
      "b1= 0.5332749228355271\n"
     ]
    },
    {
     "data": {
      "image/png": "[encoded data removed]",
      "text/plain": [
       "<Figure size 432x288 with 1 Axes>"
      ]
     },
     "metadata": {
      "needs_background": "light"
     },
     "output_type": "display_data"
    },
    {
     "name": "stdout",
     "output_type": "stream",
     "text": [
      "\n",
      "\n",
      "Problem 2 b\n",
      "\n",
      "b0= 1.2546965953530318\n",
      "b1= 3.6235202773528354\n",
      "\n",
      "\n",
      "Problem 2 c\n",
      "\n",
      "the regression line appears to be a good fit to the transformed data\n"
     ]
    },
    {
     "data": {
      "image/png": "[encoded data removed]",
      "text/plain": [
       "<Figure size 432x288 with 1 Axes>"
      ]
     },
     "metadata": {
      "needs_background": "light"
     },
     "output_type": "display_data"
    },
    {
     "name": "stdout",
     "output_type": "stream",
     "text": [
      "\n",
      "\n",
      "Problem 2 d\n",
      "\n"
     ]
    },
    {
     "data": {
      "image/png": "[encoded data removed]",
      "text/plain": [
       "<Figure size 432x288 with 1 Axes>"
      ]
     },
     "metadata": {
      "needs_background": "light"
     },
     "output_type": "display_data"
    },
    {
     "data": {
      "text/plain": [
       "Text(0.5, 1.0, 'normal probability plot')"
      ]
     },
     "execution_count": 21,
     "metadata": {},
     "output_type": "execute_result"
    },
    {
     "data": {
      "image/png": "[encoded data removed]",
      "text/plain": [
       "<Figure size 432x288 with 1 Axes>"
      ]
     },
     "metadata": {
      "needs_background": "light"
     },
     "output_type": "display_data"
    }
   ],
   "source": [
    "print('Problem 2 a')\n",
    "print()\n",
    "data= np.loadtxt('production.txt')\n",
    "x=data[:, 1]\n",
    "y=data[:, 0]\n",
    "plt.plot(x, y,'o')\n",
    "plt.xlabel('lot size')\n",
    "plt.ylabel('hours')\n",
    "plt.title('Scatter Plot')\n",
    "print('There is no linear relation appear adequate here')\n",
    "\n",
    "x_1 = sm.add_constant(x)\n",
    "results=sm.OLS(y,x_1).fit()\n",
    "b0 = results.params[0]\n",
    "b1 = results.params[1]\n",
    "print('b0=', b0)\n",
    "print('b1=', b1)\n",
    "y_hat = b0 + b1*x\n",
    "plt.plot(x, y_hat,label='regression line')\n",
    "plt.show()\n",
    "print()\n",
    "print()\n",
    "\n",
    "print('Problem 2 b')\n",
    "print()\n",
    "sqrtx= np.sqrt(x)\n",
    "sqrtx_1 = sm.add_constant(sqrtx)\n",
    "results=sm.OLS(y,sqrtx_1).fit()\n",
    "b0 = results.params[0]\n",
    "b1 = results.params[1]\n",
    "print('b0=', b0)\n",
    "print('b1=', b1)\n",
    "y_hat = b0 + b1*sqrtx\n",
    "print()\n",
    "print()\n",
    "\n",
    "print('Problem 2 c')\n",
    "print()\n",
    "plt.plot(sqrtx, y,'o')\n",
    "plt.plot(sqrtx, y_hat,label='regression line')\n",
    "plt.xlabel('lot size')\n",
    "plt.ylabel('hours')\n",
    "plt.title('Scatter Plot against $\\sqrt{x}$')\n",
    "print('the regression line appears to be a good fit to the transformed data')\n",
    "plt.show()\n",
    "print()\n",
    "print()\n",
    "\n",
    "print('Problem 2 d')\n",
    "print()\n",
    "x_1 = sm.add_constant(sqrtx)\n",
    "results=sm.OLS(y,x_1).fit()\n",
    "b0 = results.params[0]\n",
    "b1 = results.params[1]\n",
    "y_hat = b0 + b1*sqrtx\n",
    "res=results.resid\n",
    "plt.plot(y_hat,res,'o')\n",
    "plt.xlabel('lot size')\n",
    "plt.ylabel('hours')\n",
    "plt.title('Residual Plot against fitted values')\n",
    "plt.show()\n",
    "\n",
    "fig=sm.qqplot(res, fit=True, line='45')\n",
    "plt.title('normal probability plot')"
   ]
  },
  {
   "cell_type": "markdown",
   "metadata": {
    "slideshow": {
     "slide_type": "subslide"
    }
   },
   "source": [
    "## Problem 3\n",
    "\n",
    "**Consumer finance**. The data below show, for a consumer finance company operating in six cities, the number of competing loan companies operating in the city ($x$) and the number per thousand of the company's loans made in that city that are currently delinquent ($y$):\n",
    "\n",
    "| i | 1 | 2 | 3 | 4 | 5 | 6 |\n",
    "|---|---|---|---|---|---|---|\n",
    "|$x_i$| 4 | 1 | 2 | 3 | 3 | 4 |\n",
    "| $y_i$ | 16 | 5 | 10 | 15 | 13 | 22|\n",
    "\n",
    "Assume normal error regresson model is applicable. \n",
    "\n",
    "1. Using matrix methods, find \n",
    "\n",
    "(a) $\\mathbf{y}^T\\mathbf{y}$\n",
    "\n",
    "(b) $X^TX$\n",
    "\n",
    "(c) $X^T\\mathbf{y}$.\n",
    "\n",
    "2. Using matrix methods, obtain \n",
    "\n",
    "(a) vector of estimated regression coefficients\n",
    "\n",
    "(b) vector of residuals\n",
    "\n",
    "(c) SSR\n",
    "\n",
    "(d) SSE\n",
    "\n",
    "(e) estimated variance-covariance matrix of $\\mathbf{b}$\n",
    "\n",
    "(f) point estimate of $E[y_h]$ when $x_h=4$\n",
    "\n",
    "(g) $s^2[\\text{pred}]$ when $x_h=4$\n",
    "\n",
    "3. From your estimated variance-covariance matrix in Part (2e), obtain the following:\n",
    "\n",
    "(a) $s[b_0, b_1]$\n",
    "\n",
    "(b) $s^2[b_0]$\n",
    "\n",
    "(c) $s[b_1]$\n",
    "\n",
    "4. Find the hat matrix $H$.\n",
    "\n",
    "5. Find $s^2[\\mathbf{e}]$.\n",
    "\n",
    "(Hint: use np.eye to generate identity matrix, and use np.ones to generate the matrix of all ones. Check their webpages for their uses.)"
   ]
  },
  {
   "cell_type": "code",
   "execution_count": 28,
   "metadata": {},
   "outputs": [
    {
     "name": "stdout",
     "output_type": "stream",
     "text": [
      "Problem 3, 1\n",
      "(a)\n",
      "𝐲𝑇*𝐲= 1259\n",
      "\n",
      "(b)\n",
      "X^T*X= \n",
      " [[ 6. 17.]\n",
      " [17. 55.]]\n",
      "\n",
      "(c)\n",
      "$X^T*y$= [ 81. 261.]\n",
      "\n",
      "\n",
      "Problem 3, 2\n",
      "(a)\n",
      "The b vector is :  [0.43902439 4.6097561 ]\n",
      "\n",
      "(b)\n",
      "e=:  [-2.87804878 -0.04878049  0.34146341  0.73170732 -1.26829268  3.12195122]\n",
      "\n",
      "(c)\n",
      "SSR =  145.20731707317054\n",
      "\n",
      "(d)\n",
      "SSE =  20.292682926829457\n",
      "\n",
      "(e)\n",
      "s2_b0 and s2_b1 from OLS is: \n",
      " [[ 6.80547293 -2.10350982]\n",
      " [-2.10350982  0.74241523]]\n",
      "\n",
      "(f)\n",
      "E[y]: 18.878048780487802\n",
      "\n",
      "(g)\n",
      "𝑠2[pred]  when 𝑥ℎ=4: 6.929208804283163\n",
      "\n",
      "\n",
      "Problem 3, 3\n",
      "(a)\n",
      "𝑠[𝑏0,𝑏1]= -2.10350981558596\n",
      "\n",
      "(b)\n",
      "𝑠2[𝑏0]= 6.805472932778105\n",
      "\n",
      "(c)\n",
      "𝑠[𝑏1]= 0.8616352064710092\n",
      "\n",
      "\n",
      "Problem 3, 4\n",
      "\n",
      "H= [[ 0.36585366 -0.14634146  0.02439024  0.19512195  0.19512195  0.36585366]\n",
      " [-0.14634146  0.65853659  0.3902439   0.12195122  0.12195122 -0.14634146]\n",
      " [ 0.02439024  0.3902439   0.26829268  0.14634146  0.14634146  0.02439024]\n",
      " [ 0.19512195  0.12195122  0.14634146  0.17073171  0.17073171  0.19512195]\n",
      " [ 0.19512195  0.12195122  0.14634146  0.17073171  0.17073171  0.19512195]\n",
      " [ 0.36585366 -0.14634146  0.02439024  0.19512195  0.19512195  0.36585366]]\n",
      "\n",
      "\n",
      "Problem 3, 5\n",
      "\n",
      "s2[e]= [[3.21713266 5.81558596 4.94943486 4.08328376 4.08328376 3.21713266]\n",
      " [5.81558596 1.7323022  3.09339679 4.45449137 4.45449137 5.81558596]\n",
      " [4.94943486 3.09339679 3.71207615 4.3307555  4.3307555  4.94943486]\n",
      " [4.08328376 4.45449137 4.3307555  4.20701963 4.20701963 4.08328376]\n",
      " [4.08328376 4.45449137 4.3307555  4.20701963 4.20701963 4.08328376]\n",
      " [3.21713266 5.81558596 4.94943486 4.08328376 4.08328376 3.21713266]]\n"
     ]
    }
   ],
   "source": [
    "x=np.array([4,1,2,3,3,4])\n",
    "y=np.array([16,5,10,15,13,22])\n",
    "n=x.size\n",
    "\n",
    "print('Problem 3, 1')\n",
    "\n",
    "print('(a)')\n",
    "print('𝐲𝑇*𝐲=',np.dot(y.T,y))\n",
    "print()\n",
    "\n",
    "print('(b)')\n",
    "col_1 = np.ones(n,)\n",
    "X = np.column_stack((col_1,x))\n",
    "print('X^T*X=','\\n',np.dot(X.T,X))\n",
    "print()\n",
    "\n",
    "print('(c)')\n",
    "print('$X^T*y$=',np.dot(X.T,y))\n",
    "print()\n",
    "print()\n",
    "\n",
    "print('Problem 3, 2')\n",
    "print('(a)')\n",
    "inverse=np.linalg.inv(np.dot(X.T,X))\n",
    "b=np.dot(inverse,np.dot(X.T,y))\n",
    "print('The b vector is : ', b)\n",
    "print()\n",
    "\n",
    "print('(b)')\n",
    "e=y-np.dot(X,b)\n",
    "print('e=: ', e)\n",
    "print()\n",
    "\n",
    "print('(c)')\n",
    "j = (n,n)\n",
    "Y=np.dot(np.ones(j),y)\n",
    "SSR=np.dot(b,np.dot(X.T,y))-(np.dot(y.T,Y))/n\n",
    "print('SSR = ', SSR)\n",
    "print()\n",
    "\n",
    "print('(d)')\n",
    "SSE=np.dot(y,y)-np.dot(b,np.dot(X.T,y))\n",
    "print('SSE = ', SSE)\n",
    "print()\n",
    "\n",
    "print('(e)')\n",
    "x1=sm.add_constant(x)\n",
    "results=sm.OLS(y,x1).fit()\n",
    "MSE=results.mse_resid\n",
    "s2_b = MSE*np.linalg.inv(np.dot(X.T, X))\n",
    "print('s2_b0 and s2_b1 from OLS is:','\\n', s2_b)\n",
    "print()\n",
    "\n",
    "print('(f)')\n",
    "x_h=np.array([1, 4])\n",
    "y_hat=np.dot(x_h,b)\n",
    "print('E[y]:', y_hat)\n",
    "print()\n",
    "\n",
    "print('(g)')\n",
    "s2_y_hat_h=np.dot(x_h,np.dot(s2_b,x_h))+MSE\n",
    "print('𝑠2[pred]  when 𝑥ℎ=4:', s2_y_hat_h)\n",
    "print()\n",
    "print()\n",
    "\n",
    "print('Problem 3, 3')\n",
    "print('(a)')\n",
    "print('𝑠[𝑏0,𝑏1]=',s2_b[0,1])\n",
    "print()\n",
    "\n",
    "print('(b)')\n",
    "print('𝑠2[𝑏0]=', s2_b [0,0])\n",
    "print()\n",
    "\n",
    "print('(c)')\n",
    "print('𝑠[𝑏1]=',  np.sqrt(s2_b [1,1]))\n",
    "print()\n",
    "print()\n",
    "\n",
    "print('Problem 3, 4')\n",
    "print()\n",
    "a=np.dot(inverse,X.T)\n",
    "H=np.dot(X,a)\n",
    "print('H=',H)\n",
    "print()\n",
    "print()\n",
    "\n",
    "print('Problem 3, 5')\n",
    "print()\n",
    "print('s2[e]=',MSE*(1-H))"
   ]
  }
 ],
 "metadata": {
  "kernelspec": {
   "display_name": "Python 3",
   "language": "python",
   "name": "python3"
  },
  "language_info": {
   "codemirror_mode": {
    "name": "ipython",
    "version": 3
   },
   "file_extension": ".py",
   "mimetype": "text/x-python",
   "name": "python",
   "nbconvert_exporter": "python",
   "pygments_lexer": "ipython3",
   "version": "3.7.6"
  },
  "latex_envs": {
   "LaTeX_envs_menu_present": true,
   "autoclose": false,
   "autocomplete": true,
   "bibliofile": "biblio.bib",
   "cite_by": "apalike",
   "current_citInitial": 1,
   "eqLabelWithNumbers": true,
   "eqNumInitial": 1,
   "hotkeys": {
    "equation": "Ctrl-E",
    "itemize": "Ctrl-I"
   },
   "labels_anchors": false,
   "latex_user_defs": false,
   "report_style_numbering": false,
   "user_envs_cfg": false
  },
  "name": "Lecture1.ipynb",
  "toc": {
   "base_numbering": 1,
   "nav_menu": {},
   "number_sections": true,
   "sideBar": true,
   "skip_h1_title": false,
   "title_cell": "Table of Contents",
   "title_sidebar": "Contents",
   "toc_cell": false,
   "toc_position": {},
   "toc_section_display": true,
   "toc_window_display": false
  }
 },
 "nbformat": 4,
 "nbformat_minor": 2
}
